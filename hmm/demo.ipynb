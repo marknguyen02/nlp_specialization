{
 "cells": [
  {
   "cell_type": "code",
   "execution_count": 1,
   "id": "82d2a140",
   "metadata": {},
   "outputs": [
    {
     "name": "stderr",
     "output_type": "stream",
     "text": [
      "[nltk_data] Downloading package treebank to\n",
      "[nltk_data]     C:\\Users\\ASUS\\AppData\\Roaming\\nltk_data...\n",
      "[nltk_data]   Package treebank is already up-to-date!\n"
     ]
    },
    {
     "data": {
      "text/plain": [
       "True"
      ]
     },
     "execution_count": 1,
     "metadata": {},
     "output_type": "execute_result"
    }
   ],
   "source": [
    "from model import HiddenMarkovModel\n",
    "from metrics import compute_accuracy\n",
    "import nltk\n",
    "from nltk.corpus import treebank\n",
    "from sklearn.model_selection import train_test_split\n",
    "\n",
    "nltk.download('treebank')"
   ]
  },
  {
   "cell_type": "code",
   "execution_count": 2,
   "id": "7ad02dc6",
   "metadata": {},
   "outputs": [],
   "source": [
    "corpus = treebank.tagged_sents()\n",
    "train_corpus = corpus[:-10]\n",
    "test_corpus = corpus[-10:]\n",
    "# train_corpus, test_corpus = train_test_split(corpus, test_size=0.1, random_state=42)"
   ]
  },
  {
   "cell_type": "code",
   "execution_count": 3,
   "id": "4dc10bba",
   "metadata": {},
   "outputs": [],
   "source": [
    "model = HiddenMarkovModel(rare_threshold=2)\n",
    "model.fit(train_corpus)"
   ]
  },
  {
   "cell_type": "code",
   "execution_count": 4,
   "id": "abd6137b",
   "metadata": {},
   "outputs": [
    {
     "name": "stdout",
     "output_type": "stream",
     "text": [
      "0.8193199280515981\n"
     ]
    }
   ],
   "source": [
    "pred_corpus = model.predict(test_corpus)\n",
    "print(compute_accuracy(test_corpus, pred_corpus))"
   ]
  }
 ],
 "metadata": {
  "kernelspec": {
   "display_name": ".venv",
   "language": "python",
   "name": "python3"
  },
  "language_info": {
   "codemirror_mode": {
    "name": "ipython",
    "version": 3
   },
   "file_extension": ".py",
   "mimetype": "text/x-python",
   "name": "python",
   "nbconvert_exporter": "python",
   "pygments_lexer": "ipython3",
   "version": "3.12.6"
  }
 },
 "nbformat": 4,
 "nbformat_minor": 5
}
